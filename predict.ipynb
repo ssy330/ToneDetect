{
 "cells": [
  {
   "cell_type": "code",
   "execution_count": null,
   "metadata": {},
   "outputs": [],
   "source": [
    "from transformers import BertTokenizer, BertForSequenceClassification\n",
    "import torch\n",
    "\n",
    "# 모델 저장 경로\n",
    "\n",
    "MODEL_PATH = \"./ToneDetect_model\"\n",
    "\n",
    "# 토크나이저와 학습된 모델 불러오기\n",
    "tokenizer = BertTokenizer.from_pretrained(MODEL_PATH)\n",
    "model = BertForSequenceClassification.from_pretrained(MODEL_PATH)\n",
    "model.eval()"
   ]
  },
  {
   "cell_type": "code",
   "execution_count": null,
   "metadata": {},
   "outputs": [],
   "source": [
    "text = \"안녕하오\"  # 예측하고 싶은 문장\n",
    "\n",
    "# 입력 토크나이즈\n",
    "inputs = tokenizer(text, return_tensors=\"pt\", truncation=True, padding=True)\n",
    "\n",
    "# 예측\n",
    "with torch.no_grad():\n",
    "    outputs = model(**inputs)\n",
    "    logits = outputs.logits\n",
    "    predicted_class = torch.argmax(logits, dim=1).item()\n",
    "\n",
    "label_map = {\n",
    "    0: \"로봇 말투 (android)\",\n",
    "    1: \"연장자 말투 (azae)\",\n",
    "    2: \"채팅체 (chat)\",\n",
    "    3: \"초등학생 말투 (choding)\",\n",
    "    4: \"이모티콘 포함 (emoticon)\",\n",
    "    5: \"외향적 말투 (enfp)\",\n",
    "    6: \"존댓말 (formal)\",\n",
    "    7: \"극존칭 (gentle)\",\n",
    "    8: \"할아버지 말투 (halbae)\",\n",
    "    9: \"욕쟁이 할머니 말투 (halmae)\",\n",
    "    10: \"반말 (informal)\",\n",
    "    11: \"중2병 말투 (joongding)\",\n",
    "    12: \"왕 말투 (king)\",\n",
    "    13: \"특정 어미 부착 (naruto)\",\n",
    "    14: \"선비 말투 (seonbi)\",\n",
    "    15: \"소심한 말투 (sosim)\",\n",
    "    16: \"번역기 말투 (translator)\"\n",
    "}\n",
    "\n",
    "print(\"예측된 클래스:\", predicted_class)\n",
    "print(\"예측된 말투:\", label_map[predicted_class])\n"
   ]
  }
 ],
 "metadata": {
  "language_info": {
   "name": "python"
  }
 },
 "nbformat": 4,
 "nbformat_minor": 2
}
