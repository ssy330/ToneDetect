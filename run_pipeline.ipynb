{
 "cells": [
  {
   "cell_type": "code",
   "execution_count": 3,
   "id": "21a08b8f",
   "metadata": {},
   "outputs": [
    {
     "name": "stderr",
     "output_type": "stream",
     "text": [
      "Some weights of BertForSequenceClassification were not initialized from the model checkpoint at beomi/kcbert-base and are newly initialized: ['classifier.bias', 'classifier.weight']\n",
      "You should probably TRAIN this model on a down-stream task to be able to use it for predictions and inference.\n"
     ]
    },
    {
     "name": "stdout",
     "output_type": "stream",
     "text": [
      "\n",
      "📊 예측 결과 요약:\n",
      "- elder_speech(어르신 말투): 1 문장\n",
      "- soft_polite(부드럽고 상냥한 말투): 5 문장\n",
      "- chat_emoticon(이모티콘 자주 쓰는 말투): 35 문장\n",
      "- informal(친근한 말투): 7 문장\n",
      "- formal(격식있는 말투): 4 문장\n"
     ]
    }
   ],
   "source": [
    "# ✅ 1. 기본 import\n",
    "import sys\n",
    "sys.path.append(\"./전처리\")\n",
    "\n",
    "import os\n",
    "import importlib\n",
    "import torch\n",
    "import merge\n",
    "from transformers import AutoTokenizer, AutoModelForSequenceClassification\n",
    "from peft import PeftModel\n",
    "\n",
    "# ✅ 2. merge.py 실행\n",
    "# merge.py 가 \"전처리/merge.py\" 에 있으므로 sys.path에 추가\n",
    "sys.path.append(os.path.join(os.getcwd(), \"전처리\"))\n",
    "\n",
    "import merge  # 전처리 모듈 불러오기\n",
    "\n",
    "# ✅ 카톡 파일 지정 (변경 가능)\n",
    "input_chat_path = \"datasets/KakaoTalk_20250515_0053_22_930_유정유정.txt\"\n",
    "\n",
    "# ✅ merge 실행 → 정제된 문장 리스트 반환\n",
    "clean_sentences = merge.run_merge(input_chat_path)  # run_merge() 함수가 merge.py에 있다고 가정\n",
    "\n",
    "# ✅ 3. 모델 로드\n",
    "ADAPTER_PATH = \"Models/ToneDetect_adapter\"\n",
    "BASE_MODEL_NAME = \"beomi/kcbert-base\"  # 원래 학습할 때 사용한 베이스\n",
    "\n",
    "tokenizer = AutoTokenizer.from_pretrained(BASE_MODEL_NAME)\n",
    "base_model = AutoModelForSequenceClassification.from_pretrained(BASE_MODEL_NAME, num_labels=5)\n",
    "model = PeftModel.from_pretrained(base_model, ADAPTER_PATH)\n",
    "model.eval()\n",
    "\n",
    "# ✅ 4. 예측 함수\n",
    "def predict_style(text):\n",
    "    inputs = tokenizer(text, return_tensors=\"pt\", truncation=True, padding=True, max_length=128)\n",
    "    with torch.no_grad():\n",
    "        outputs = model(**inputs)\n",
    "        logits = outputs.logits\n",
    "        pred_class = torch.argmax(logits, dim=1).item()\n",
    "    return pred_class\n",
    "\n",
    "# ✅ 5. 라벨 정의\n",
    "label_map = {\n",
    "    0: \"chat_emoticon(이모티콘 자주 쓰는 말투)\",\n",
    "    1: \"elder_speech(어르신 말투)\",\n",
    "    2: \"formal(격식있는 말투)\",\n",
    "    3: \"informal(친근한 말투)\",\n",
    "    4: \"soft_polite(부드럽고 상냥한 말투)\"\n",
    "}\n",
    "\n",
    "# ✅ 6. 전체 예측\n",
    "from collections import defaultdict\n",
    "\n",
    "style_counts = defaultdict(int)\n",
    "\n",
    "for sentence in clean_sentences:\n",
    "    pred = predict_style(sentence)\n",
    "    style_name = label_map[pred]\n",
    "    style_counts[style_name] += 1\n",
    "\n",
    "# ✅ 7. 결과 출력\n",
    "print(\"\\n📊 예측 결과 요약:\")\n",
    "for style, count in style_counts.items():\n",
    "    print(f\"- {style}: {count} 문장\")"
   ]
  }
 ],
 "metadata": {
  "kernelspec": {
   "display_name": "base",
   "language": "python",
   "name": "python3"
  },
  "language_info": {
   "codemirror_mode": {
    "name": "ipython",
    "version": 3
   },
   "file_extension": ".py",
   "mimetype": "text/x-python",
   "name": "python",
   "nbconvert_exporter": "python",
   "pygments_lexer": "ipython3",
   "version": "3.12.7"
  }
 },
 "nbformat": 4,
 "nbformat_minor": 5
}
