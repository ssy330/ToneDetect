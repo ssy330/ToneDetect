{
 "cells": [
  {
   "cell_type": "code",
   "execution_count": null,
   "id": "99c3a95e",
   "metadata": {},
   "outputs": [
    {
     "name": "stdout",
     "output_type": "stream",
     "text": [
      "✅ 총 1058개의 유효 학습 샘플 저장 완료.\n"
     ]
    }
   ],
   "source": [
    "import json\n",
    "\n",
    "# JSON 파일 로드\n",
    "with open(\"datasets/상거래(쇼핑)_refined.json\", \"r\", encoding=\"utf-8\") as f:\n",
    "    data = json.load(f)\n",
    "\n",
    "# refined가 존재하고, utterance가 시스템 문장이 아닌 경우만 저장\n",
    "pairs = []\n",
    "for item in data[:1083]:\n",
    "    if item[\"refined\"]:\n",
    "        if \"#@시스템#사진#\" in item[\"utterance\"]:\n",
    "            continue  # ⛔ 이 문장은 건너뜀\n",
    "        input_text = item[\"utterance\"].strip().replace(\"\\t\", \" \")\n",
    "        target_text = item[\"refined\"].strip().replace(\"\\t\", \" \")\n",
    "        pairs.append(f\"정제: {input_text}\\t{target_text}\")\n",
    "\n",
    "# 파일로 저장\n",
    "with open(\"refine_data_t5.txt\", \"w\", encoding=\"utf-8\") as f:\n",
    "    for line in pairs:\n",
    "        f.write(line + \"\\n\")\n",
    "\n",
    "print(f\"✅ 총 {len(pairs)}개의 유효 학습 샘플 저장 완료.\")"
   ]
  },
  {
   "cell_type": "code",
   "execution_count": 3,
   "id": "ac249627",
   "metadata": {},
   "outputs": [
    {
     "ename": "ModuleNotFoundError",
     "evalue": "No module named 'datasets'",
     "output_type": "error",
     "traceback": [
      "\u001b[1;31m---------------------------------------------------------------------------\u001b[0m",
      "\u001b[1;31mModuleNotFoundError\u001b[0m                       Traceback (most recent call last)",
      "Cell \u001b[1;32mIn[3], line 1\u001b[0m\n\u001b[1;32m----> 1\u001b[0m \u001b[38;5;28;01mfrom\u001b[39;00m\u001b[38;5;250m \u001b[39m\u001b[38;5;21;01mdatasets\u001b[39;00m\u001b[38;5;250m \u001b[39m\u001b[38;5;28;01mimport\u001b[39;00m load_dataset\n\u001b[0;32m      2\u001b[0m \u001b[38;5;28;01mfrom\u001b[39;00m\u001b[38;5;250m \u001b[39m\u001b[38;5;21;01mtransformers\u001b[39;00m\u001b[38;5;250m \u001b[39m\u001b[38;5;28;01mimport\u001b[39;00m T5Tokenizer, T5ForConditionalGeneration\n\u001b[0;32m      4\u001b[0m \u001b[38;5;66;03m# ✅ 1. 텍스트 파일을 HuggingFace Dataset으로 불러오기\u001b[39;00m\n",
      "\u001b[1;31mModuleNotFoundError\u001b[0m: No module named 'datasets'"
     ]
    }
   ],
   "source": [
    "from datasets import load_dataset\n",
    "from transformers import T5Tokenizer, T5ForConditionalGeneration\n",
    "\n",
    "# ✅ 1. 텍스트 파일을 HuggingFace Dataset으로 불러오기\n",
    "dataset = load_dataset(\"text\", data_files={\"train\": \"refine_data_t5.txt\"})\n",
    "\n",
    "# ✅ 2. 모델과 토크나이저 로드 (Korean T5)\n",
    "model_name = \"kykim/t5-kor-small\"\n",
    "tokenizer = T5Tokenizer.from_pretrained(model_name)\n",
    "model = T5ForConditionalGeneration.from_pretrained(model_name)"
   ]
  },
  {
   "cell_type": "code",
   "execution_count": null,
   "id": "02dcf9e6",
   "metadata": {},
   "outputs": [],
   "source": [
    "def preprocess_function(examples, max_input_length=64, max_target_length=64):\n",
    "    inputs = [line.split(\"\\t\")[0] for line in examples[\"text\"]]\n",
    "    targets = [line.split(\"\\t\")[1] for line in examples[\"text\"]]\n",
    "\n",
    "    model_inputs = tokenizer(\n",
    "        inputs,\n",
    "        max_length=max_input_length,\n",
    "        padding=\"max_length\",\n",
    "        truncation=True,\n",
    "    )\n",
    "\n",
    "    labels = tokenizer(\n",
    "        targets,\n",
    "        max_length=max_target_length,\n",
    "        padding=\"max_length\",\n",
    "        truncation=True,\n",
    "    ).input_ids\n",
    "\n",
    "    # label에서 pad 토큰은 -100으로 바꿔야 loss에 무시됨\n",
    "    labels = [[(l if l != tokenizer.pad_token_id else -100) for l in label] for label in labels]\n",
    "    model_inputs[\"labels\"] = labels\n",
    "\n",
    "    return model_inputs\n",
    "\n",
    "# ✅ 전처리 적용\n",
    "tokenized_dataset = dataset.map(preprocess_function, batched=True)"
   ]
  },
  {
   "cell_type": "code",
   "execution_count": null,
   "id": "cca1a179",
   "metadata": {},
   "outputs": [],
   "source": [
    "from transformers import TrainingArguments, Trainer\n",
    "\n",
    "training_args = TrainingArguments(\n",
    "    output_dir=\"./t5_refiner\",\n",
    "    per_device_train_batch_size=8,\n",
    "    num_train_epochs=5,\n",
    "    logging_dir=\"./logs\",\n",
    "    logging_steps=10,\n",
    "    save_steps=100,\n",
    "    save_total_limit=2,\n",
    "    report_to=\"none\",\n",
    "    fp16=False,  # True로 바꾸면 GPU + Colab Pro에서 더 빠름\n",
    ")\n",
    "\n",
    "trainer = Trainer(\n",
    "    model=model,\n",
    "    args=training_args,\n",
    "    train_dataset=tokenized_dataset[\"train\"],\n",
    "    tokenizer=tokenizer,\n",
    ")\n"
   ]
  },
  {
   "cell_type": "code",
   "execution_count": null,
   "id": "e30e789b",
   "metadata": {},
   "outputs": [],
   "source": [
    "# ✅ 학습 시작!\n",
    "trainer.train()"
   ]
  },
  {
   "cell_type": "code",
   "execution_count": null,
   "id": "2e9a0fe2",
   "metadata": {},
   "outputs": [],
   "source": [
    "model.save_pretrained(\"./t5_refiner\")\n",
    "tokenizer.save_pretrained(\"./t5_refiner\")"
   ]
  }
 ],
 "metadata": {
  "kernelspec": {
   "display_name": "venv",
   "language": "python",
   "name": "python3"
  },
  "language_info": {
   "codemirror_mode": {
    "name": "ipython",
    "version": 3
   },
   "file_extension": ".py",
   "mimetype": "text/x-python",
   "name": "python",
   "nbconvert_exporter": "python",
   "pygments_lexer": "ipython3",
   "version": "3.9.13"
  }
 },
 "nbformat": 4,
 "nbformat_minor": 5
}
