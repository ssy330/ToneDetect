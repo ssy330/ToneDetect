{
 "cells": [
  {
   "cell_type": "code",
   "execution_count": 1,
   "id": "437c5db4",
   "metadata": {},
   "outputs": [
    {
     "name": "stdout",
     "output_type": "stream",
     "text": [
      "왜 자꾸 한 손만 하냐고\n"
     ]
    }
   ],
   "source": [
    "# 띄어쓰기 해주는 라이브러리\n",
    "\n",
    "from pykospacing import Spacing\n",
    "spacing = Spacing()\n",
    "\n",
    "print(spacing(\"왜자꾸한손만하냐고\"))"
   ]
  }
 ],
 "metadata": {
  "kernelspec": {
   "display_name": "venv",
   "language": "python",
   "name": "python3"
  },
  "language_info": {
   "codemirror_mode": {
    "name": "ipython",
    "version": 3
   },
   "file_extension": ".py",
   "mimetype": "text/x-python",
   "name": "python",
   "nbconvert_exporter": "python",
   "pygments_lexer": "ipython3",
   "version": "3.9.13"
  }
 },
 "nbformat": 4,
 "nbformat_minor": 5
}
